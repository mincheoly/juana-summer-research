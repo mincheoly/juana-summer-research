{
 "cells": [
  {
   "cell_type": "code",
   "execution_count": 2,
   "id": "7559adfa-7a49-4e52-ace4-1b4d78c41699",
   "metadata": {},
   "outputs": [],
   "source": [
    "import h5py"
   ]
  },
  {
   "cell_type": "code",
   "execution_count": 3,
   "id": "3eeaf0d4-6d06-475e-b98e-2baf63fc237c",
   "metadata": {},
   "outputs": [],
   "source": [
    "import numpy as np"
   ]
  },
  {
   "cell_type": "code",
   "execution_count": 48,
   "id": "9b52af7b-621e-4ded-83c8-38a4101f6d21",
   "metadata": {},
   "outputs": [],
   "source": [
    "import pandas as pd\n",
    "import anndata as ad\n",
    "import scanpy as sc\n",
    "from itertools import product"
   ]
  },
  {
   "cell_type": "code",
   "execution_count": 5,
   "id": "f15adcb0-e78d-4b44-a6d6-42c8303329cd",
   "metadata": {},
   "outputs": [],
   "source": [
    "import scipy"
   ]
  },
  {
   "cell_type": "code",
   "execution_count": 6,
   "id": "de8f37b8-842d-4e67-933f-c892f9cf14e6",
   "metadata": {},
   "outputs": [],
   "source": [
    "data_path = '/data_volume/memento/'"
   ]
  },
  {
   "cell_type": "code",
   "execution_count": 7,
   "id": "d540379f-05e0-4c1d-a83e-185953196d31",
   "metadata": {},
   "outputs": [],
   "source": [
    "adata = sc.read('Data/fullHBEC.h5ad')"
   ]
  },
  {
   "cell_type": "code",
   "execution_count": 8,
   "id": "36cc46dc-2452-424d-83f6-e29eef4590bc",
   "metadata": {},
   "outputs": [
    {
     "data": {
      "text/plain": [
       "<69958x36601 sparse matrix of type '<class 'numpy.float32'>'\n",
       "\twith 216759439 stored elements in Compressed Sparse Row format>"
      ]
     },
     "execution_count": 8,
     "metadata": {},
     "output_type": "execute_result"
    }
   ],
   "source": [
    "adata.X"
   ]
  },
  {
   "cell_type": "code",
   "execution_count": 9,
   "id": "53c37008-5d9d-472b-ab4d-360e4f18fb3d",
   "metadata": {},
   "outputs": [
    {
     "data": {
      "text/plain": [
       "anndata._core.anndata.AnnData"
      ]
     },
     "execution_count": 9,
     "metadata": {},
     "output_type": "execute_result"
    }
   ],
   "source": [
    "type(adata)"
   ]
  },
  {
   "cell_type": "code",
   "execution_count": 10,
   "id": "e13ad099-548c-4f5f-b43b-37bbfdf7325b",
   "metadata": {},
   "outputs": [],
   "source": [
    "index=adata.var_names"
   ]
  },
  {
   "cell_type": "code",
   "execution_count": 11,
   "id": "6e78e068-ce0a-4109-85ad-2c0f03605c0c",
   "metadata": {},
   "outputs": [],
   "source": [
    "index_df=pd.DataFrame(index)"
   ]
  },
  {
   "cell_type": "code",
   "execution_count": 92,
   "id": "ba28f9f9-1ef8-490a-b582-9046bd5ac478",
   "metadata": {},
   "outputs": [
    {
     "data": {
      "text/html": [
       "<div>\n",
       "<style scoped>\n",
       "    .dataframe tbody tr th:only-of-type {\n",
       "        vertical-align: middle;\n",
       "    }\n",
       "\n",
       "    .dataframe tbody tr th {\n",
       "        vertical-align: top;\n",
       "    }\n",
       "\n",
       "    .dataframe thead th {\n",
       "        text-align: right;\n",
       "    }\n",
       "</style>\n",
       "<table border=\"1\" class=\"dataframe\">\n",
       "  <thead>\n",
       "    <tr style=\"text-align: right;\">\n",
       "      <th></th>\n",
       "      <th>gene_ids</th>\n",
       "      <th>feature_types</th>\n",
       "      <th>genome</th>\n",
       "      <th>mt</th>\n",
       "      <th>n_cells_by_counts</th>\n",
       "      <th>mean_counts</th>\n",
       "      <th>pct_dropout_by_counts</th>\n",
       "      <th>total_counts</th>\n",
       "    </tr>\n",
       "  </thead>\n",
       "  <tbody>\n",
       "    <tr>\n",
       "      <th>HES4</th>\n",
       "      <td>ENSG00000188290</td>\n",
       "      <td>Gene Expression</td>\n",
       "      <td>GRCh38</td>\n",
       "      <td>False</td>\n",
       "      <td>67040</td>\n",
       "      <td>5.536824</td>\n",
       "      <td>16.879510</td>\n",
       "      <td>446567.0</td>\n",
       "    </tr>\n",
       "    <tr>\n",
       "      <th>ISG15</th>\n",
       "      <td>ENSG00000187608</td>\n",
       "      <td>Gene Expression</td>\n",
       "      <td>GRCh38</td>\n",
       "      <td>False</td>\n",
       "      <td>78984</td>\n",
       "      <td>52.471233</td>\n",
       "      <td>2.070573</td>\n",
       "      <td>4232015.0</td>\n",
       "    </tr>\n",
       "    <tr>\n",
       "      <th>TTLL10</th>\n",
       "      <td>ENSG00000162571</td>\n",
       "      <td>Gene Expression</td>\n",
       "      <td>GRCh38</td>\n",
       "      <td>False</td>\n",
       "      <td>20165</td>\n",
       "      <td>0.626987</td>\n",
       "      <td>74.998140</td>\n",
       "      <td>50569.0</td>\n",
       "    </tr>\n",
       "    <tr>\n",
       "      <th>SDF4</th>\n",
       "      <td>ENSG00000078808</td>\n",
       "      <td>Gene Expression</td>\n",
       "      <td>GRCh38</td>\n",
       "      <td>False</td>\n",
       "      <td>28066</td>\n",
       "      <td>0.463511</td>\n",
       "      <td>65.201974</td>\n",
       "      <td>37384.0</td>\n",
       "    </tr>\n",
       "    <tr>\n",
       "      <th>AURKAIP1</th>\n",
       "      <td>ENSG00000175756</td>\n",
       "      <td>Gene Expression</td>\n",
       "      <td>GRCh38</td>\n",
       "      <td>False</td>\n",
       "      <td>61429</td>\n",
       "      <td>2.226883</td>\n",
       "      <td>23.836388</td>\n",
       "      <td>179607.0</td>\n",
       "    </tr>\n",
       "    <tr>\n",
       "      <th>...</th>\n",
       "      <td>...</td>\n",
       "      <td>...</td>\n",
       "      <td>...</td>\n",
       "      <td>...</td>\n",
       "      <td>...</td>\n",
       "      <td>...</td>\n",
       "      <td>...</td>\n",
       "      <td>...</td>\n",
       "    </tr>\n",
       "    <tr>\n",
       "      <th>RPL10</th>\n",
       "      <td>ENSG00000147403</td>\n",
       "      <td>Gene Expression</td>\n",
       "      <td>GRCh38</td>\n",
       "      <td>False</td>\n",
       "      <td>77640</td>\n",
       "      <td>43.090015</td>\n",
       "      <td>3.736950</td>\n",
       "      <td>3475382.0</td>\n",
       "    </tr>\n",
       "    <tr>\n",
       "      <th>AC244090.1</th>\n",
       "      <td>ENSG00000197180</td>\n",
       "      <td>Gene Expression</td>\n",
       "      <td>GRCh38</td>\n",
       "      <td>False</td>\n",
       "      <td>19842</td>\n",
       "      <td>0.621866</td>\n",
       "      <td>75.398616</td>\n",
       "      <td>50156.0</td>\n",
       "    </tr>\n",
       "    <tr>\n",
       "      <th>ATP6AP1</th>\n",
       "      <td>ENSG00000071553</td>\n",
       "      <td>Gene Expression</td>\n",
       "      <td>GRCh38</td>\n",
       "      <td>False</td>\n",
       "      <td>32831</td>\n",
       "      <td>0.629752</td>\n",
       "      <td>59.294021</td>\n",
       "      <td>50792.0</td>\n",
       "    </tr>\n",
       "    <tr>\n",
       "      <th>FAM50A</th>\n",
       "      <td>ENSG00000071859</td>\n",
       "      <td>Gene Expression</td>\n",
       "      <td>GRCh38</td>\n",
       "      <td>False</td>\n",
       "      <td>30762</td>\n",
       "      <td>0.547648</td>\n",
       "      <td>61.859300</td>\n",
       "      <td>44170.0</td>\n",
       "    </tr>\n",
       "    <tr>\n",
       "      <th>RPS4Y1</th>\n",
       "      <td>ENSG00000129824</td>\n",
       "      <td>Gene Expression</td>\n",
       "      <td>GRCh38</td>\n",
       "      <td>False</td>\n",
       "      <td>34057</td>\n",
       "      <td>1.997855</td>\n",
       "      <td>57.773948</td>\n",
       "      <td>161135.0</td>\n",
       "    </tr>\n",
       "  </tbody>\n",
       "</table>\n",
       "<p>2991 rows × 8 columns</p>\n",
       "</div>"
      ],
      "text/plain": [
       "                   gene_ids    feature_types  genome     mt  \\\n",
       "HES4        ENSG00000188290  Gene Expression  GRCh38  False   \n",
       "ISG15       ENSG00000187608  Gene Expression  GRCh38  False   \n",
       "TTLL10      ENSG00000162571  Gene Expression  GRCh38  False   \n",
       "SDF4        ENSG00000078808  Gene Expression  GRCh38  False   \n",
       "AURKAIP1    ENSG00000175756  Gene Expression  GRCh38  False   \n",
       "...                     ...              ...     ...    ...   \n",
       "RPL10       ENSG00000147403  Gene Expression  GRCh38  False   \n",
       "AC244090.1  ENSG00000197180  Gene Expression  GRCh38  False   \n",
       "ATP6AP1     ENSG00000071553  Gene Expression  GRCh38  False   \n",
       "FAM50A      ENSG00000071859  Gene Expression  GRCh38  False   \n",
       "RPS4Y1      ENSG00000129824  Gene Expression  GRCh38  False   \n",
       "\n",
       "            n_cells_by_counts  mean_counts  pct_dropout_by_counts  \\\n",
       "HES4                    67040     5.536824              16.879510   \n",
       "ISG15                   78984    52.471233               2.070573   \n",
       "TTLL10                  20165     0.626987              74.998140   \n",
       "SDF4                    28066     0.463511              65.201974   \n",
       "AURKAIP1                61429     2.226883              23.836388   \n",
       "...                       ...          ...                    ...   \n",
       "RPL10                   77640    43.090015               3.736950   \n",
       "AC244090.1              19842     0.621866              75.398616   \n",
       "ATP6AP1                 32831     0.629752              59.294021   \n",
       "FAM50A                  30762     0.547648              61.859300   \n",
       "RPS4Y1                  34057     1.997855              57.773948   \n",
       "\n",
       "            total_counts  \n",
       "HES4            446567.0  \n",
       "ISG15          4232015.0  \n",
       "TTLL10           50569.0  \n",
       "SDF4             37384.0  \n",
       "AURKAIP1        179607.0  \n",
       "...                  ...  \n",
       "RPL10          3475382.0  \n",
       "AC244090.1       50156.0  \n",
       "ATP6AP1          50792.0  \n",
       "FAM50A           44170.0  \n",
       "RPS4Y1          161135.0  \n",
       "\n",
       "[2991 rows x 8 columns]"
      ]
     },
     "execution_count": 92,
     "metadata": {},
     "output_type": "execute_result"
    }
   ],
   "source": [
    "adata.var"
   ]
  },
  {
   "cell_type": "code",
   "execution_count": 12,
   "id": "365feb46-9922-414f-bd38-86890ae47005",
   "metadata": {},
   "outputs": [],
   "source": [
    "index_df.to_csv('all_variables.csv')"
   ]
  },
  {
   "cell_type": "code",
   "execution_count": 13,
   "id": "0db2a7f6-3d4c-4a49-ad85-1986d82444a7",
   "metadata": {},
   "outputs": [],
   "source": [
    "index2=adata.obs_names\n",
    "index_df2=pd.DataFrame(index2)\n",
    "index_df2.to_csv('all_index.csv')"
   ]
  },
  {
   "cell_type": "code",
   "execution_count": 14,
   "id": "c3a04363-44c6-4924-a864-7317a65452f7",
   "metadata": {},
   "outputs": [
    {
     "name": "stdout",
     "output_type": "stream",
     "text": [
      "[False False False ... False False False]\n"
     ]
    }
   ],
   "source": [
    "print(adata.var.index.str.contains('MT-'))"
   ]
  },
  {
   "cell_type": "code",
   "execution_count": 15,
   "id": "b1893899-01e4-49be-b2aa-6af43f45a131",
   "metadata": {},
   "outputs": [
    {
     "data": {
      "text/plain": [
       "<bound method Series.unique of AAACCCAAGGAAGTAG-1     9\n",
       "AAACCCAAGGGACTGT-1    24\n",
       "AAACCCACAATCTGCA-1     3\n",
       "AAACCCACACGTTCGG-1     3\n",
       "AAACCCACAGAACTAA-1    48\n",
       "                      ..\n",
       "TTTGTTGGTATTGACC-4    24\n",
       "TTTGTTGGTCGACTTA-4     3\n",
       "TTTGTTGGTCGCTGCA-4     0\n",
       "TTTGTTGTCCGGTAAT-4     9\n",
       "TTTGTTGTCGGACCAC-4    48\n",
       "Name: time, Length: 69958, dtype: category\n",
       "Categories (6, object): ['0', '3', '6', '9', '24', '48']>"
      ]
     },
     "execution_count": 15,
     "metadata": {},
     "output_type": "execute_result"
    }
   ],
   "source": [
    "adata.obs['time'].unique"
   ]
  },
  {
   "cell_type": "code",
   "execution_count": 16,
   "id": "9712396e-d734-404b-b759-43b4cbbab0d3",
   "metadata": {},
   "outputs": [],
   "source": [
    "mean_filter = adata.X.mean(axis=0).A1>0.5\n",
    "mt_filter  =~adata.var.index.str.contains('MT-')\n",
    "gene_filter = mean_filter & mt_filter"
   ]
  },
  {
   "cell_type": "code",
   "execution_count": 94,
   "id": "8b43a494-28b4-4182-ae60-2cf87181cf7f",
   "metadata": {},
   "outputs": [
    {
     "data": {
      "text/plain": [
       "View of AnnData object with n_obs × n_vars = 3126 × 2991\n",
       "    obs: 'NUM.SNPS', 'BEST.GUESS', 'DROPLET.TYPE', 'batch', 'HTO_classification', 'condition', 'donor', 'stim', 'time', 'n_genes', 'n_genes_by_counts', 'total_counts', 'total_counts_mt', 'pct_counts_mt', 'leiden', 'cell_type'\n",
       "    var: 'gene_ids', 'feature_types', 'genome', 'mt', 'n_cells_by_counts', 'mean_counts', 'pct_dropout_by_counts', 'total_counts'"
      ]
     },
     "execution_count": 94,
     "metadata": {},
     "output_type": "execute_result"
    }
   ],
   "source": [
    "adata"
   ]
  },
  {
   "cell_type": "code",
   "execution_count": 93,
   "id": "7daf2e50-f432-4770-a2d1-4a2af9ba72dd",
   "metadata": {},
   "outputs": [
    {
     "ename": "IndexError",
     "evalue": "Boolean index does not match AnnData’s shape along this dimension. Boolean index has shape (36601,) while AnnData index has shape (2991,).",
     "output_type": "error",
     "traceback": [
      "\u001b[0;31m---------------------------------------------------------------------------\u001b[0m",
      "\u001b[0;31mIndexError\u001b[0m                                Traceback (most recent call last)",
      "\u001b[0;32m<ipython-input-93-6db84e522704>\u001b[0m in \u001b[0;36m<module>\u001b[0;34m\u001b[0m\n\u001b[0;32m----> 1\u001b[0;31m \u001b[0madata\u001b[0m \u001b[0;34m=\u001b[0m \u001b[0madata\u001b[0m\u001b[0;34m[\u001b[0m\u001b[0;34m(\u001b[0m\u001b[0madata\u001b[0m\u001b[0;34m.\u001b[0m\u001b[0mobs\u001b[0m\u001b[0;34m[\u001b[0m\u001b[0;34m'stim'\u001b[0m\u001b[0;34m]\u001b[0m\u001b[0;34m==\u001b[0m\u001b[0;34m'lambda'\u001b[0m\u001b[0;34m)\u001b[0m \u001b[0;34m&\u001b[0m  \u001b[0madata\u001b[0m\u001b[0;34m.\u001b[0m\u001b[0mobs\u001b[0m\u001b[0;34m[\u001b[0m\u001b[0;34m'time'\u001b[0m\u001b[0;34m]\u001b[0m\u001b[0;34m.\u001b[0m\u001b[0misin\u001b[0m\u001b[0;34m(\u001b[0m\u001b[0;34m[\u001b[0m\u001b[0;34m'0'\u001b[0m\u001b[0;34m,\u001b[0m\u001b[0;34m'3'\u001b[0m\u001b[0;34m,\u001b[0m\u001b[0;34m'6'\u001b[0m\u001b[0;34m,\u001b[0m\u001b[0;34m'9'\u001b[0m\u001b[0;34m,\u001b[0m\u001b[0;34m'24'\u001b[0m\u001b[0;34m]\u001b[0m\u001b[0;34m)\u001b[0m \u001b[0;34m&\u001b[0m \u001b[0madata\u001b[0m\u001b[0;34m.\u001b[0m\u001b[0mobs\u001b[0m\u001b[0;34m[\u001b[0m\u001b[0;34m'cell_type'\u001b[0m\u001b[0;34m]\u001b[0m\u001b[0;34m.\u001b[0m\u001b[0misin\u001b[0m\u001b[0;34m(\u001b[0m\u001b[0;34m[\u001b[0m\u001b[0;34m'ciliated'\u001b[0m\u001b[0;34m]\u001b[0m\u001b[0;34m)\u001b[0m\u001b[0;34m,\u001b[0m \u001b[0mgene_filter\u001b[0m\u001b[0;34m]\u001b[0m\u001b[0;34m\u001b[0m\u001b[0;34m\u001b[0m\u001b[0m\n\u001b[0m",
      "\u001b[0;32m/opt/conda/lib/python3.8/site-packages/anndata/_core/anndata.py\u001b[0m in \u001b[0;36m__getitem__\u001b[0;34m(self, index)\u001b[0m\n\u001b[1;32m   1098\u001b[0m     \u001b[0;32mdef\u001b[0m \u001b[0m__getitem__\u001b[0m\u001b[0;34m(\u001b[0m\u001b[0mself\u001b[0m\u001b[0;34m,\u001b[0m \u001b[0mindex\u001b[0m\u001b[0;34m:\u001b[0m \u001b[0mIndex\u001b[0m\u001b[0;34m)\u001b[0m \u001b[0;34m->\u001b[0m \u001b[0;34m\"AnnData\"\u001b[0m\u001b[0;34m:\u001b[0m\u001b[0;34m\u001b[0m\u001b[0;34m\u001b[0m\u001b[0m\n\u001b[1;32m   1099\u001b[0m         \u001b[0;34m\"\"\"Returns a sliced view of the object.\"\"\"\u001b[0m\u001b[0;34m\u001b[0m\u001b[0;34m\u001b[0m\u001b[0m\n\u001b[0;32m-> 1100\u001b[0;31m         \u001b[0moidx\u001b[0m\u001b[0;34m,\u001b[0m \u001b[0mvidx\u001b[0m \u001b[0;34m=\u001b[0m \u001b[0mself\u001b[0m\u001b[0;34m.\u001b[0m\u001b[0m_normalize_indices\u001b[0m\u001b[0;34m(\u001b[0m\u001b[0mindex\u001b[0m\u001b[0;34m)\u001b[0m\u001b[0;34m\u001b[0m\u001b[0;34m\u001b[0m\u001b[0m\n\u001b[0m\u001b[1;32m   1101\u001b[0m         \u001b[0;32mreturn\u001b[0m \u001b[0mAnnData\u001b[0m\u001b[0;34m(\u001b[0m\u001b[0mself\u001b[0m\u001b[0;34m,\u001b[0m \u001b[0moidx\u001b[0m\u001b[0;34m=\u001b[0m\u001b[0moidx\u001b[0m\u001b[0;34m,\u001b[0m \u001b[0mvidx\u001b[0m\u001b[0;34m=\u001b[0m\u001b[0mvidx\u001b[0m\u001b[0;34m,\u001b[0m \u001b[0masview\u001b[0m\u001b[0;34m=\u001b[0m\u001b[0;32mTrue\u001b[0m\u001b[0;34m)\u001b[0m\u001b[0;34m\u001b[0m\u001b[0;34m\u001b[0m\u001b[0m\n\u001b[1;32m   1102\u001b[0m \u001b[0;34m\u001b[0m\u001b[0m\n",
      "\u001b[0;32m/opt/conda/lib/python3.8/site-packages/anndata/_core/anndata.py\u001b[0m in \u001b[0;36m_normalize_indices\u001b[0;34m(self, index)\u001b[0m\n\u001b[1;32m   1079\u001b[0m \u001b[0;34m\u001b[0m\u001b[0m\n\u001b[1;32m   1080\u001b[0m     \u001b[0;32mdef\u001b[0m \u001b[0m_normalize_indices\u001b[0m\u001b[0;34m(\u001b[0m\u001b[0mself\u001b[0m\u001b[0;34m,\u001b[0m \u001b[0mindex\u001b[0m\u001b[0;34m:\u001b[0m \u001b[0mOptional\u001b[0m\u001b[0;34m[\u001b[0m\u001b[0mIndex\u001b[0m\u001b[0;34m]\u001b[0m\u001b[0;34m)\u001b[0m \u001b[0;34m->\u001b[0m \u001b[0mTuple\u001b[0m\u001b[0;34m[\u001b[0m\u001b[0mslice\u001b[0m\u001b[0;34m,\u001b[0m \u001b[0mslice\u001b[0m\u001b[0;34m]\u001b[0m\u001b[0;34m:\u001b[0m\u001b[0;34m\u001b[0m\u001b[0;34m\u001b[0m\u001b[0m\n\u001b[0;32m-> 1081\u001b[0;31m         \u001b[0;32mreturn\u001b[0m \u001b[0m_normalize_indices\u001b[0m\u001b[0;34m(\u001b[0m\u001b[0mindex\u001b[0m\u001b[0;34m,\u001b[0m \u001b[0mself\u001b[0m\u001b[0;34m.\u001b[0m\u001b[0mobs_names\u001b[0m\u001b[0;34m,\u001b[0m \u001b[0mself\u001b[0m\u001b[0;34m.\u001b[0m\u001b[0mvar_names\u001b[0m\u001b[0;34m)\u001b[0m\u001b[0;34m\u001b[0m\u001b[0;34m\u001b[0m\u001b[0m\n\u001b[0m\u001b[1;32m   1082\u001b[0m \u001b[0;34m\u001b[0m\u001b[0m\n\u001b[1;32m   1083\u001b[0m     \u001b[0;31m# TODO: this is not quite complete...\u001b[0m\u001b[0;34m\u001b[0m\u001b[0;34m\u001b[0m\u001b[0;34m\u001b[0m\u001b[0m\n",
      "\u001b[0;32m/opt/conda/lib/python3.8/site-packages/anndata/_core/index.py\u001b[0m in \u001b[0;36m_normalize_indices\u001b[0;34m(index, names0, names1)\u001b[0m\n\u001b[1;32m     31\u001b[0m     \u001b[0max0\u001b[0m\u001b[0;34m,\u001b[0m \u001b[0max1\u001b[0m \u001b[0;34m=\u001b[0m \u001b[0munpack_index\u001b[0m\u001b[0;34m(\u001b[0m\u001b[0mindex\u001b[0m\u001b[0;34m)\u001b[0m\u001b[0;34m\u001b[0m\u001b[0;34m\u001b[0m\u001b[0m\n\u001b[1;32m     32\u001b[0m     \u001b[0max0\u001b[0m \u001b[0;34m=\u001b[0m \u001b[0m_normalize_index\u001b[0m\u001b[0;34m(\u001b[0m\u001b[0max0\u001b[0m\u001b[0;34m,\u001b[0m \u001b[0mnames0\u001b[0m\u001b[0;34m)\u001b[0m\u001b[0;34m\u001b[0m\u001b[0;34m\u001b[0m\u001b[0m\n\u001b[0;32m---> 33\u001b[0;31m     \u001b[0max1\u001b[0m \u001b[0;34m=\u001b[0m \u001b[0m_normalize_index\u001b[0m\u001b[0;34m(\u001b[0m\u001b[0max1\u001b[0m\u001b[0;34m,\u001b[0m \u001b[0mnames1\u001b[0m\u001b[0;34m)\u001b[0m\u001b[0;34m\u001b[0m\u001b[0;34m\u001b[0m\u001b[0m\n\u001b[0m\u001b[1;32m     34\u001b[0m     \u001b[0;32mreturn\u001b[0m \u001b[0max0\u001b[0m\u001b[0;34m,\u001b[0m \u001b[0max1\u001b[0m\u001b[0;34m\u001b[0m\u001b[0;34m\u001b[0m\u001b[0m\n\u001b[1;32m     35\u001b[0m \u001b[0;34m\u001b[0m\u001b[0m\n",
      "\u001b[0;32m/opt/conda/lib/python3.8/site-packages/anndata/_core/index.py\u001b[0m in \u001b[0;36m_normalize_index\u001b[0;34m(indexer, index)\u001b[0m\n\u001b[1;32m     85\u001b[0m         \u001b[0;32melif\u001b[0m \u001b[0missubclass\u001b[0m\u001b[0;34m(\u001b[0m\u001b[0mindexer\u001b[0m\u001b[0;34m.\u001b[0m\u001b[0mdtype\u001b[0m\u001b[0;34m.\u001b[0m\u001b[0mtype\u001b[0m\u001b[0;34m,\u001b[0m \u001b[0mnp\u001b[0m\u001b[0;34m.\u001b[0m\u001b[0mbool_\u001b[0m\u001b[0;34m)\u001b[0m\u001b[0;34m:\u001b[0m\u001b[0;34m\u001b[0m\u001b[0;34m\u001b[0m\u001b[0m\n\u001b[1;32m     86\u001b[0m             \u001b[0;32mif\u001b[0m \u001b[0mindexer\u001b[0m\u001b[0;34m.\u001b[0m\u001b[0mshape\u001b[0m \u001b[0;34m!=\u001b[0m \u001b[0mindex\u001b[0m\u001b[0;34m.\u001b[0m\u001b[0mshape\u001b[0m\u001b[0;34m:\u001b[0m\u001b[0;34m\u001b[0m\u001b[0;34m\u001b[0m\u001b[0m\n\u001b[0;32m---> 87\u001b[0;31m                 raise IndexError(\n\u001b[0m\u001b[1;32m     88\u001b[0m                     \u001b[0;34mf\"Boolean index does not match AnnData’s shape along this \"\u001b[0m\u001b[0;34m\u001b[0m\u001b[0;34m\u001b[0m\u001b[0m\n\u001b[1;32m     89\u001b[0m                     \u001b[0;34mf\"dimension. Boolean index has shape {indexer.shape} while \"\u001b[0m\u001b[0;34m\u001b[0m\u001b[0;34m\u001b[0m\u001b[0m\n",
      "\u001b[0;31mIndexError\u001b[0m: Boolean index does not match AnnData’s shape along this dimension. Boolean index has shape (36601,) while AnnData index has shape (2991,)."
     ]
    }
   ],
   "source": [
    "adata = adata[(adata.obs['stim']=='lambda') &  adata.obs['time'].isin(['0','3','6','9','24']) & adata.obs['cell_type'].isin(['ciliated']), gene_filter]"
   ]
  },
  {
   "cell_type": "code",
   "execution_count": 19,
   "id": "d0043488-3518-41a1-b213-47e383138341",
   "metadata": {},
   "outputs": [],
   "source": [
    "df_cond=adata.obs[[ 'cell_type', 'time']]\n",
    "df_gene= pd.DataFrame(data=adata.X.toarray(), index=adata.obs.index, columns=adata.var.index)"
   ]
  },
  {
   "cell_type": "code",
   "execution_count": 46,
   "id": "af692e94-7906-444c-a79d-bd4b35b82982",
   "metadata": {},
   "outputs": [],
   "source": [
    "df_718 = pd.concat([df_cond, df_gene], axis=1)\n",
    "df_718.to_csv('718table.csv')"
   ]
  },
  {
   "cell_type": "code",
   "execution_count": 90,
   "id": "b6873aab-1294-4be0-897a-85e19f9c32f2",
   "metadata": {},
   "outputs": [
    {
     "name": "stdout",
     "output_type": "stream",
     "text": [
      "[HES4          0.000304\n",
      "ISG15         0.002640\n",
      "TTLL10        0.000428\n",
      "SDF4          0.000065\n",
      "AURKAIP1      0.000422\n",
      "                ...   \n",
      "RPL10         0.002215\n",
      "AC244090.1    0.000349\n",
      "ATP6AP1       0.000177\n",
      "FAM50A        0.000114\n",
      "RPS4Y1        0.000282\n",
      "Length: 2991, dtype: float32, HES4          0.000314\n",
      "ISG15         0.003063\n",
      "TTLL10        0.000415\n",
      "SDF4          0.000068\n",
      "AURKAIP1      0.000409\n",
      "                ...   \n",
      "RPL10         0.002587\n",
      "AC244090.1    0.000295\n",
      "ATP6AP1       0.000161\n",
      "FAM50A        0.000115\n",
      "RPS4Y1        0.000162\n",
      "Length: 2991, dtype: float32, HES4          0.000331\n",
      "ISG15         0.002902\n",
      "TTLL10        0.000387\n",
      "SDF4          0.000061\n",
      "AURKAIP1      0.000423\n",
      "                ...   \n",
      "RPL10         0.002760\n",
      "AC244090.1    0.000334\n",
      "ATP6AP1       0.000160\n",
      "FAM50A        0.000114\n",
      "RPS4Y1        0.000332\n",
      "Length: 2991, dtype: float32, HES4          0.000339\n",
      "ISG15         0.002922\n",
      "TTLL10        0.000342\n",
      "SDF4          0.000061\n",
      "AURKAIP1      0.000402\n",
      "                ...   \n",
      "RPL10         0.002940\n",
      "AC244090.1    0.000334\n",
      "ATP6AP1       0.000152\n",
      "FAM50A        0.000111\n",
      "RPS4Y1        0.000226\n",
      "Length: 2991, dtype: float32]\n"
     ]
    }
   ],
   "source": [
    "#different tables with times \n",
    "all_cell_types = ['ciliated']\n",
    "all_time=['3','6','9','24'] #0 is empty and has Nan\n",
    "combo=list(product(all_cell_types,all_time))\n",
    "\n",
    "list_mean_cxlxt=[]\n",
    "for i,j in combo:\n",
    "    df_cxlxt=df_718.loc[(df_718.cell_type==i)& (df_718.time==j),:]\n",
    "    cilxlambda=df_cxlxt.drop(['time','cell_type'], axis=1)\n",
    "    norm_cxl=cilxlambda.div(cilxlambda.sum(axis=1), axis=0) #normalize\n",
    "    norm_cxl=np.array(norm_cxl)\n",
    "    norm_cxl=np.log1p(norm_cxl)  #log1p\n",
    "    norm_cxl=pd.DataFrame(norm_cxl,index=cilxlambda.index, columns= cilxlambda.columns) #add index and col back\n",
    "    mean_cxl=norm_cxl.mean() #mean\n",
    "    list_mean_cxlxt.append(mean_cxl)\n",
    "    \n",
    "print(list_mean_cxlxt)\n"
   ]
  },
  {
   "cell_type": "code",
   "execution_count": 76,
   "id": "2e0a3956-5831-400f-9476-312d4b7e6739",
   "metadata": {},
   "outputs": [
    {
     "data": {
      "text/html": [
       "<div>\n",
       "<style scoped>\n",
       "    .dataframe tbody tr th:only-of-type {\n",
       "        vertical-align: middle;\n",
       "    }\n",
       "\n",
       "    .dataframe tbody tr th {\n",
       "        vertical-align: top;\n",
       "    }\n",
       "\n",
       "    .dataframe thead th {\n",
       "        text-align: right;\n",
       "    }\n",
       "</style>\n",
       "<table border=\"1\" class=\"dataframe\">\n",
       "  <thead>\n",
       "    <tr style=\"text-align: right;\">\n",
       "      <th></th>\n",
       "      <th>HES4</th>\n",
       "      <th>ISG15</th>\n",
       "      <th>TTLL10</th>\n",
       "      <th>SDF4</th>\n",
       "      <th>AURKAIP1</th>\n",
       "      <th>MRPL20</th>\n",
       "      <th>SSU72</th>\n",
       "      <th>GNB1</th>\n",
       "      <th>FAAP20</th>\n",
       "      <th>RER1</th>\n",
       "      <th>...</th>\n",
       "      <th>SLC6A8</th>\n",
       "      <th>BCAP31</th>\n",
       "      <th>IDH3G</th>\n",
       "      <th>SSR4</th>\n",
       "      <th>NAA10</th>\n",
       "      <th>RPL10</th>\n",
       "      <th>AC244090.1</th>\n",
       "      <th>ATP6AP1</th>\n",
       "      <th>FAM50A</th>\n",
       "      <th>RPS4Y1</th>\n",
       "    </tr>\n",
       "  </thead>\n",
       "  <tbody>\n",
       "    <tr>\n",
       "      <th>ciliated-3</th>\n",
       "      <td>0.000304</td>\n",
       "      <td>0.002640</td>\n",
       "      <td>0.000428</td>\n",
       "      <td>0.000065</td>\n",
       "      <td>0.000422</td>\n",
       "      <td>0.000353</td>\n",
       "      <td>0.000199</td>\n",
       "      <td>0.000144</td>\n",
       "      <td>0.000134</td>\n",
       "      <td>0.000228</td>\n",
       "      <td>...</td>\n",
       "      <td>0.000046</td>\n",
       "      <td>0.000207</td>\n",
       "      <td>0.000103</td>\n",
       "      <td>0.000535</td>\n",
       "      <td>0.000111</td>\n",
       "      <td>0.002215</td>\n",
       "      <td>0.000349</td>\n",
       "      <td>0.000177</td>\n",
       "      <td>0.000114</td>\n",
       "      <td>0.000282</td>\n",
       "    </tr>\n",
       "    <tr>\n",
       "      <th>ciliated-6</th>\n",
       "      <td>0.000314</td>\n",
       "      <td>0.003063</td>\n",
       "      <td>0.000415</td>\n",
       "      <td>0.000068</td>\n",
       "      <td>0.000409</td>\n",
       "      <td>0.000344</td>\n",
       "      <td>0.000200</td>\n",
       "      <td>0.000140</td>\n",
       "      <td>0.000136</td>\n",
       "      <td>0.000210</td>\n",
       "      <td>...</td>\n",
       "      <td>0.000045</td>\n",
       "      <td>0.000206</td>\n",
       "      <td>0.000108</td>\n",
       "      <td>0.000554</td>\n",
       "      <td>0.000124</td>\n",
       "      <td>0.002587</td>\n",
       "      <td>0.000295</td>\n",
       "      <td>0.000161</td>\n",
       "      <td>0.000115</td>\n",
       "      <td>0.000162</td>\n",
       "    </tr>\n",
       "    <tr>\n",
       "      <th>ciliated-9</th>\n",
       "      <td>0.000331</td>\n",
       "      <td>0.002902</td>\n",
       "      <td>0.000387</td>\n",
       "      <td>0.000061</td>\n",
       "      <td>0.000423</td>\n",
       "      <td>0.000359</td>\n",
       "      <td>0.000199</td>\n",
       "      <td>0.000136</td>\n",
       "      <td>0.000131</td>\n",
       "      <td>0.000241</td>\n",
       "      <td>...</td>\n",
       "      <td>0.000054</td>\n",
       "      <td>0.000210</td>\n",
       "      <td>0.000110</td>\n",
       "      <td>0.000589</td>\n",
       "      <td>0.000117</td>\n",
       "      <td>0.002760</td>\n",
       "      <td>0.000334</td>\n",
       "      <td>0.000160</td>\n",
       "      <td>0.000114</td>\n",
       "      <td>0.000332</td>\n",
       "    </tr>\n",
       "    <tr>\n",
       "      <th>ciliated-24</th>\n",
       "      <td>0.000339</td>\n",
       "      <td>0.002922</td>\n",
       "      <td>0.000342</td>\n",
       "      <td>0.000061</td>\n",
       "      <td>0.000402</td>\n",
       "      <td>0.000357</td>\n",
       "      <td>0.000203</td>\n",
       "      <td>0.000121</td>\n",
       "      <td>0.000128</td>\n",
       "      <td>0.000225</td>\n",
       "      <td>...</td>\n",
       "      <td>0.000035</td>\n",
       "      <td>0.000206</td>\n",
       "      <td>0.000109</td>\n",
       "      <td>0.000593</td>\n",
       "      <td>0.000120</td>\n",
       "      <td>0.002940</td>\n",
       "      <td>0.000334</td>\n",
       "      <td>0.000152</td>\n",
       "      <td>0.000111</td>\n",
       "      <td>0.000226</td>\n",
       "    </tr>\n",
       "  </tbody>\n",
       "</table>\n",
       "<p>4 rows × 2991 columns</p>\n",
       "</div>"
      ],
      "text/plain": [
       "                 HES4     ISG15    TTLL10      SDF4  AURKAIP1    MRPL20  \\\n",
       "ciliated-3   0.000304  0.002640  0.000428  0.000065  0.000422  0.000353   \n",
       "ciliated-6   0.000314  0.003063  0.000415  0.000068  0.000409  0.000344   \n",
       "ciliated-9   0.000331  0.002902  0.000387  0.000061  0.000423  0.000359   \n",
       "ciliated-24  0.000339  0.002922  0.000342  0.000061  0.000402  0.000357   \n",
       "\n",
       "                SSU72      GNB1    FAAP20      RER1  ...    SLC6A8    BCAP31  \\\n",
       "ciliated-3   0.000199  0.000144  0.000134  0.000228  ...  0.000046  0.000207   \n",
       "ciliated-6   0.000200  0.000140  0.000136  0.000210  ...  0.000045  0.000206   \n",
       "ciliated-9   0.000199  0.000136  0.000131  0.000241  ...  0.000054  0.000210   \n",
       "ciliated-24  0.000203  0.000121  0.000128  0.000225  ...  0.000035  0.000206   \n",
       "\n",
       "                IDH3G      SSR4     NAA10     RPL10  AC244090.1   ATP6AP1  \\\n",
       "ciliated-3   0.000103  0.000535  0.000111  0.002215    0.000349  0.000177   \n",
       "ciliated-6   0.000108  0.000554  0.000124  0.002587    0.000295  0.000161   \n",
       "ciliated-9   0.000110  0.000589  0.000117  0.002760    0.000334  0.000160   \n",
       "ciliated-24  0.000109  0.000593  0.000120  0.002940    0.000334  0.000152   \n",
       "\n",
       "               FAM50A    RPS4Y1  \n",
       "ciliated-3   0.000114  0.000282  \n",
       "ciliated-6   0.000115  0.000162  \n",
       "ciliated-9   0.000114  0.000332  \n",
       "ciliated-24  0.000111  0.000226  \n",
       "\n",
       "[4 rows x 2991 columns]"
      ]
     },
     "execution_count": 76,
     "metadata": {},
     "output_type": "execute_result"
    }
   ],
   "source": [
    "#final mean table\n",
    "names = [f'{i}-{j}' for i,j in combo]\n",
    "df_mean_cxlxt=pd.DataFrame(list_mean_cxlxt, index=names)\n",
    "df_mean_cxlxt."
   ]
  },
  {
   "cell_type": "code",
   "execution_count": 95,
   "id": "554ee38b-5b3c-4d8f-9b1c-debde7543224",
   "metadata": {},
   "outputs": [
    {
     "ename": "ValueError",
     "evalue": "too many values to unpack (expected 2)",
     "output_type": "error",
     "traceback": [
      "\u001b[0;31m---------------------------------------------------------------------------\u001b[0m",
      "\u001b[0;31mValueError\u001b[0m                                Traceback (most recent call last)",
      "\u001b[0;32m<ipython-input-95-9194ffd2c99c>\u001b[0m in \u001b[0;36m<module>\u001b[0;34m\u001b[0m\n\u001b[1;32m      2\u001b[0m \u001b[0mnames\u001b[0m\u001b[0;34m=\u001b[0m\u001b[0;34m[\u001b[0m\u001b[0;34mf'{i}-{j}'\u001b[0m \u001b[0;32mfor\u001b[0m \u001b[0mi\u001b[0m\u001b[0;34m,\u001b[0m \u001b[0mj\u001b[0m \u001b[0;32min\u001b[0m \u001b[0mcombo\u001b[0m\u001b[0;34m]\u001b[0m\u001b[0;34m\u001b[0m\u001b[0;34m\u001b[0m\u001b[0m\n\u001b[1;32m      3\u001b[0m \u001b[0mnames1\u001b[0m\u001b[0;34m=\u001b[0m\u001b[0mlist\u001b[0m\u001b[0;34m(\u001b[0m\u001b[0mnames\u001b[0m\u001b[0;34m)\u001b[0m\u001b[0;34m\u001b[0m\u001b[0;34m\u001b[0m\u001b[0m\n\u001b[0;32m----> 4\u001b[0;31m \u001b[0;32mfor\u001b[0m \u001b[0mx\u001b[0m\u001b[0;34m,\u001b[0m\u001b[0my\u001b[0m \u001b[0;32min\u001b[0m \u001b[0mnames1\u001b[0m\u001b[0;34m:\u001b[0m\u001b[0;34m\u001b[0m\u001b[0;34m\u001b[0m\u001b[0m\n\u001b[0m\u001b[1;32m      5\u001b[0m     \u001b[0mdf_meandiff_cxlxt\u001b[0m\u001b[0;34m=\u001b[0m\u001b[0mdf_mean_cxlxt\u001b[0m\u001b[0;34m.\u001b[0m\u001b[0mloc\u001b[0m\u001b[0;34m[\u001b[0m\u001b[0mx\u001b[0m\u001b[0;34m,\u001b[0m\u001b[0;34m:\u001b[0m\u001b[0;34m]\u001b[0m\u001b[0;34m-\u001b[0m\u001b[0mdf_mean_cxlxt\u001b[0m\u001b[0;34m.\u001b[0m\u001b[0mloc\u001b[0m\u001b[0;34m[\u001b[0m\u001b[0my\u001b[0m\u001b[0;34m,\u001b[0m\u001b[0;34m:\u001b[0m\u001b[0;34m]\u001b[0m\u001b[0;34m\u001b[0m\u001b[0;34m\u001b[0m\u001b[0m\n",
      "\u001b[0;31mValueError\u001b[0m: too many values to unpack (expected 2)"
     ]
    }
   ],
   "source": [
    "#difference in means\n",
    "names=[f'{i}-{j}' for i, j in combo]\n",
    "names1=list(names)\n",
    "for x,y in names1:\n",
    "    df_meandiff_cxlxt=df_mean_cxlxt.loc[x,:]-df_mean_cxlxt.loc[y,:]"
   ]
  },
  {
   "cell_type": "code",
   "execution_count": 87,
   "id": "9f506ad7-0334-4da2-b6ae-3b1521eae7a3",
   "metadata": {},
   "outputs": [
    {
     "data": {
      "text/plain": [
       "HES4          0.0\n",
       "ISG15         0.0\n",
       "TTLL10        0.0\n",
       "SDF4          0.0\n",
       "AURKAIP1      0.0\n",
       "             ... \n",
       "RPL10         0.0\n",
       "AC244090.1    0.0\n",
       "ATP6AP1       0.0\n",
       "FAM50A        0.0\n",
       "RPS4Y1        0.0\n",
       "Name: ciliated-24, Length: 2991, dtype: float32"
      ]
     },
     "execution_count": 87,
     "metadata": {},
     "output_type": "execute_result"
    }
   ],
   "source": []
  },
  {
   "cell_type": "code",
   "execution_count": null,
   "id": "82b9e2f5-b8e7-4952-a861-c521d4b9314f",
   "metadata": {},
   "outputs": [],
   "source": []
  }
 ],
 "metadata": {
  "kernelspec": {
   "display_name": "Python 3",
   "language": "python",
   "name": "python3"
  },
  "language_info": {
   "codemirror_mode": {
    "name": "ipython",
    "version": 3
   },
   "file_extension": ".py",
   "mimetype": "text/x-python",
   "name": "python",
   "nbconvert_exporter": "python",
   "pygments_lexer": "ipython3",
   "version": "3.8.10"
  },
  "toc-autonumbering": true,
  "toc-showcode": true
 },
 "nbformat": 4,
 "nbformat_minor": 5
}
