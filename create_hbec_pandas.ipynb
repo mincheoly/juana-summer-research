{
 "cells": [
  {
   "cell_type": "markdown",
   "id": "e1467cbc-dddd-4d04-ac22-9a0bc33ed64f",
   "metadata": {},
   "source": [
    "### Create (simplified) Pandas version of the HBEC dataset"
   ]
  },
  {
   "cell_type": "code",
   "execution_count": 10,
   "id": "751f374b-0504-4aca-be1d-498a235a82cc",
   "metadata": {},
   "outputs": [],
   "source": [
    "import scanpy as sc\n",
    "import pandas as pd"
   ]
  },
  {
   "cell_type": "code",
   "execution_count": 2,
   "id": "7081c199-da9e-464a-959e-36d4b5b4696b",
   "metadata": {},
   "outputs": [],
   "source": [
    "data_path = '/data_volume/memento/'"
   ]
  },
  {
   "cell_type": "code",
   "execution_count": 3,
   "id": "72fb71df-6130-4dda-bfd3-065609ae9410",
   "metadata": {},
   "outputs": [],
   "source": [
    "adata = sc.read(data_path + 'hbec/HBEC_type_I_filtered_counts_deep.h5ad')"
   ]
  },
  {
   "cell_type": "markdown",
   "id": "0d1f4d4a-8756-4ce8-be68-4936b9d8a4c8",
   "metadata": {},
   "source": [
    "### Filter the dataset"
   ]
  },
  {
   "cell_type": "code",
   "execution_count": 4,
   "id": "03ec6df3-bd6e-40ff-bd38-9ebe5a609f49",
   "metadata": {},
   "outputs": [],
   "source": [
    "mean_filter = adata.X.mean(axis=0).A1>0.5\n",
    "mt_filter  =~adata.var.index.str.contains('MT-')\n",
    "gene_filter = mean_filter & mt_filter"
   ]
  },
  {
   "cell_type": "code",
   "execution_count": 5,
   "id": "37a4f0b9-6379-4d90-9179-9706de75da78",
   "metadata": {},
   "outputs": [],
   "source": [
    "adata = adata[\n",
    "    (adata.obs['donor'] == 'd2513') &\\\n",
    "    adata.obs['stim'].isin(['control', 'beta', 'gamma', 'lambda']) & \\\n",
    "    adata.obs['cell_type'].isin(['ciliated', 'basal', 'goblet']), gene_filter]"
   ]
  },
  {
   "cell_type": "markdown",
   "id": "4f6d2218-576e-4e26-a294-57ad63274082",
   "metadata": {},
   "source": [
    "### Create Pandas dataframes"
   ]
  },
  {
   "cell_type": "code",
   "execution_count": 13,
   "id": "c1f7168d-16c9-4c02-bbef-747951dd730b",
   "metadata": {},
   "outputs": [],
   "source": [
    "meta_df = adata.obs[['stim', 'cell_type']]\n",
    "expr_df = pd.DataFrame(data=adata.X.toarray(), index=adata.obs.index, columns=adata.var.index)"
   ]
  },
  {
   "cell_type": "code",
   "execution_count": 16,
   "id": "57f78f89-785a-4630-a3f6-b338b71387b6",
   "metadata": {},
   "outputs": [],
   "source": [
    "combined = pd.concat([meta_df, expr_df], axis=1)"
   ]
  },
  {
   "cell_type": "code",
   "execution_count": 17,
   "id": "0979bc92-f865-4401-9f1d-ea6914d7c7a7",
   "metadata": {},
   "outputs": [],
   "source": [
    "meta_df.to_csv('toy_hbec_meta.csv')\n",
    "expr_df.to_csv('toy_hbec_expr.csv')\n",
    "combined.to_csv('toy_hbec.csv')"
   ]
  }
 ],
 "metadata": {
  "kernelspec": {
   "display_name": "Python (single_cell)",
   "language": "python",
   "name": "single_cell"
  },
  "language_info": {
   "codemirror_mode": {
    "name": "ipython",
    "version": 3
   },
   "file_extension": ".py",
   "mimetype": "text/x-python",
   "name": "python",
   "nbconvert_exporter": "python",
   "pygments_lexer": "ipython3",
   "version": "3.10.11"
  }
 },
 "nbformat": 4,
 "nbformat_minor": 5
}
