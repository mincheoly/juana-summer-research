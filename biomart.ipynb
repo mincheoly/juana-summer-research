{
 "cells": [
  {
   "cell_type": "code",
   "execution_count": 87,
   "id": "6b08f33b-fc28-41c4-bffa-0e5fad77323c",
   "metadata": {},
   "outputs": [],
   "source": [
    "\n",
    "import numpy as np\n",
    "import pandas as pd"
   ]
  },
  {
   "cell_type": "code",
   "execution_count": 91,
   "id": "a242d113-6e11-4e0b-850b-db9078cd8d03",
   "metadata": {},
   "outputs": [
    {
     "name": "stdout",
     "output_type": "stream",
     "text": [
      "Requirement already satisfied: biomart in /opt/conda/lib/python3.8/site-packages (0.9.2)\n",
      "Requirement already satisfied: requests>=2.2 in /opt/conda/lib/python3.8/site-packages (from biomart) (2.25.1)\n",
      "Requirement already satisfied: urllib3<1.27,>=1.21.1 in /opt/conda/lib/python3.8/site-packages (from requests>=2.2->biomart) (1.26.5)\n",
      "Requirement already satisfied: chardet<5,>=3.0.2 in /opt/conda/lib/python3.8/site-packages (from requests>=2.2->biomart) (4.0.0)\n",
      "Requirement already satisfied: certifi>=2017.4.17 in /opt/conda/lib/python3.8/site-packages (from requests>=2.2->biomart) (2021.5.30)\n",
      "Requirement already satisfied: idna<3,>=2.5 in /opt/conda/lib/python3.8/site-packages (from requests>=2.2->biomart) (2.10)\n",
      "Note: you may need to restart the kernel to use updated packages.\n"
     ]
    }
   ],
   "source": [
    "pip install biomart"
   ]
  },
  {
   "cell_type": "code",
   "execution_count": 92,
   "id": "efd9207d-63cd-4470-bbd3-97974870a860",
   "metadata": {},
   "outputs": [
    {
     "name": "stdout",
     "output_type": "stream",
     "text": [
      "Requirement already satisfied: apybiomart in /opt/conda/lib/python3.8/site-packages (0.5.3)\n",
      "Requirement already satisfied: asyncio in /opt/conda/lib/python3.8/site-packages (from apybiomart) (3.4.3)\n",
      "Requirement already satisfied: aiohttp in /opt/conda/lib/python3.8/site-packages (from apybiomart) (3.8.4)\n",
      "Requirement already satisfied: requests in /opt/conda/lib/python3.8/site-packages (from apybiomart) (2.25.1)\n",
      "Requirement already satisfied: pandas in /opt/conda/lib/python3.8/site-packages (from apybiomart) (1.2.4)\n",
      "Requirement already satisfied: async-timeout<5.0,>=4.0.0a3 in /opt/conda/lib/python3.8/site-packages (from aiohttp->apybiomart) (4.0.2)\n",
      "Requirement already satisfied: frozenlist>=1.1.1 in /opt/conda/lib/python3.8/site-packages (from aiohttp->apybiomart) (1.4.0)\n",
      "Requirement already satisfied: multidict<7.0,>=4.5 in /opt/conda/lib/python3.8/site-packages (from aiohttp->apybiomart) (6.0.4)\n",
      "Requirement already satisfied: charset-normalizer<4.0,>=2.0 in /opt/conda/lib/python3.8/site-packages (from aiohttp->apybiomart) (3.2.0)\n",
      "Requirement already satisfied: yarl<2.0,>=1.0 in /opt/conda/lib/python3.8/site-packages (from aiohttp->apybiomart) (1.9.2)\n",
      "Requirement already satisfied: aiosignal>=1.1.2 in /opt/conda/lib/python3.8/site-packages (from aiohttp->apybiomart) (1.3.1)\n",
      "Requirement already satisfied: attrs>=17.3.0 in /opt/conda/lib/python3.8/site-packages (from aiohttp->apybiomart) (21.2.0)\n",
      "Requirement already satisfied: idna>=2.0 in /opt/conda/lib/python3.8/site-packages (from yarl<2.0,>=1.0->aiohttp->apybiomart) (2.10)\n",
      "Requirement already satisfied: python-dateutil>=2.7.3 in /opt/conda/lib/python3.8/site-packages (from pandas->apybiomart) (2.8.1)\n",
      "Requirement already satisfied: numpy>=1.16.5 in /opt/conda/lib/python3.8/site-packages (from pandas->apybiomart) (1.22.3)\n",
      "Requirement already satisfied: pytz>=2017.3 in /opt/conda/lib/python3.8/site-packages (from pandas->apybiomart) (2021.1)\n",
      "Requirement already satisfied: six>=1.5 in /opt/conda/lib/python3.8/site-packages (from python-dateutil>=2.7.3->pandas->apybiomart) (1.16.0)\n",
      "Requirement already satisfied: urllib3<1.27,>=1.21.1 in /opt/conda/lib/python3.8/site-packages (from requests->apybiomart) (1.26.5)\n",
      "Requirement already satisfied: certifi>=2017.4.17 in /opt/conda/lib/python3.8/site-packages (from requests->apybiomart) (2021.5.30)\n",
      "Requirement already satisfied: chardet<5,>=3.0.2 in /opt/conda/lib/python3.8/site-packages (from requests->apybiomart) (4.0.0)\n",
      "Note: you may need to restart the kernel to use updated packages.\n"
     ]
    }
   ],
   "source": [
    "pip install apybiomart"
   ]
  },
  {
   "cell_type": "code",
   "execution_count": 83,
   "id": "6afcb9b9-64ed-44c5-b407-3e6a30627aa7",
   "metadata": {},
   "outputs": [],
   "source": [
    "from biomart import BiomartServer"
   ]
  },
  {
   "cell_type": "code",
   "execution_count": 89,
   "id": "f2d3221b-9693-4058-8a4a-41902113cf6a",
   "metadata": {},
   "outputs": [],
   "source": [
    "def get_ensembl_mappings():                                                                                                                                                                                                                                                                                                                                                           \n",
    "    server = biomart.BiomartServer('http://uswest.ensembl.org/biomart')                                                                                                                                     \n",
    "    allchrom=server.datasets['hsapiens_gene_ensembl']  "
   ]
  },
  {
   "cell_type": "code",
   "execution_count": 93,
   "id": "32a860f4-703b-42fd-9c97-20d2e40f3508",
   "metadata": {},
   "outputs": [
    {
     "ename": "ParseError",
     "evalue": "undefined entity: line 27, column 104 (<string>)",
     "output_type": "error",
     "traceback": [
      "Traceback \u001b[0;36m(most recent call last)\u001b[0m:\n",
      "  File \u001b[1;32m\"/opt/conda/lib/python3.8/site-packages/IPython/core/interactiveshell.py\"\u001b[0m, line \u001b[1;32m3441\u001b[0m, in \u001b[1;35mrun_code\u001b[0m\n    exec(code_obj, self.user_global_ns, self.user_ns)\n",
      "  File \u001b[1;32m\"<ipython-input-93-b16e1a364a0a>\"\u001b[0m, line \u001b[1;32m1\u001b[0m, in \u001b[1;35m<module>\u001b[0m\n    allchrom=server.datasets['hsapiens_gene_ensemble']\n",
      "  File \u001b[1;32m\"/opt/conda/lib/python3.8/site-packages/biomart/server.py\"\u001b[0m, line \u001b[1;32m62\u001b[0m, in \u001b[1;35mdatasets\u001b[0m\n    self.fetch_datasets()\n",
      "  File \u001b[1;32m\"/opt/conda/lib/python3.8/site-packages/biomart/server.py\"\u001b[0m, line \u001b[1;32m86\u001b[0m, in \u001b[1;35mfetch_datasets\u001b[0m\n    for database in self.databases.values():\n",
      "  File \u001b[1;32m\"/opt/conda/lib/python3.8/site-packages/biomart/server.py\"\u001b[0m, line \u001b[1;32m56\u001b[0m, in \u001b[1;35mdatabases\u001b[0m\n    self.fetch_databases()\n",
      "  File \u001b[1;32m\"/opt/conda/lib/python3.8/site-packages/biomart/server.py\"\u001b[0m, line \u001b[1;32m70\u001b[0m, in \u001b[1;35mfetch_databases\u001b[0m\n    xml = fromstring(r.text)\n",
      "\u001b[0;36m  File \u001b[0;32m\"/opt/conda/lib/python3.8/xml/etree/ElementTree.py\"\u001b[0;36m, line \u001b[0;32m1320\u001b[0;36m, in \u001b[0;35mXML\u001b[0;36m\u001b[0m\n\u001b[0;31m    parser.feed(text)\u001b[0m\n",
      "\u001b[0;36m  File \u001b[0;32m\"<string>\"\u001b[0;36m, line \u001b[0;32munknown\u001b[0m\n\u001b[0;31mParseError\u001b[0m\u001b[0;31m:\u001b[0m undefined entity: line 27, column 104\n"
     ]
    }
   ],
   "source": [
    "allchrom=server.datasets['hsapiens_gene_ensemble']"
   ]
  },
  {
   "cell_type": "code",
   "execution_count": null,
   "id": "c0824fe8-d9f0-4fd2-ab55-f3f8f6e6f74c",
   "metadata": {
    "tags": []
   },
   "outputs": [],
   "source": [
    "attributes = ['ensembl_transcript_id', 'mgi_symbol', \n",
    "                  'ensembl_gene_id', 'ensembl_peptide_id']"
   ]
  },
  {
   "cell_type": "code",
   "execution_count": null,
   "id": "ff0e5d6b-7295-439a-be76-815dce8b2f3b",
   "metadata": {},
   "outputs": [],
   "source": [
    "response=allchrom.sear({'attributes': attributes})"
   ]
  },
  {
   "cell_type": "code",
   "execution_count": null,
   "id": "e4bc42fb-b756-42e0-a353-6145bdb93bb6",
   "metadata": {},
   "outputs": [],
   "source": []
  }
 ],
 "metadata": {
  "kernelspec": {
   "display_name": "Python 3",
   "language": "python",
   "name": "python3"
  },
  "language_info": {
   "codemirror_mode": {
    "name": "ipython",
    "version": 3
   },
   "file_extension": ".py",
   "mimetype": "text/x-python",
   "name": "python",
   "nbconvert_exporter": "python",
   "pygments_lexer": "ipython3",
   "version": "3.8.10"
  }
 },
 "nbformat": 4,
 "nbformat_minor": 5
}
