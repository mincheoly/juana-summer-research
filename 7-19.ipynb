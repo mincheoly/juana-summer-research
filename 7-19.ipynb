{
 "cells": [
  {
   "cell_type": "code",
   "execution_count": 87,
   "id": "85371522-b6f1-4393-82f7-ae71cdbecdeb",
   "metadata": {},
   "outputs": [],
   "source": [
    "import scanpy as sc\n",
    "import scipy.stats as stats\n",
    "import pandas as pd\n",
    "from statsmodels.stats.multitest import fdrcorrection\n",
    "from itertools import product\n",
    "import numpy as np\n",
    "import matplotlib.pyplot as plt"
   ]
  },
  {
   "cell_type": "markdown",
   "id": "d7169fb7-146e-4cac-88bd-734d228e78e9",
   "metadata": {},
   "source": [
    "### Differential expression analysis"
   ]
  },
  {
   "cell_type": "code",
   "execution_count": 9,
   "id": "df2798f4-bab6-4fd2-9d9e-26a3accb9806",
   "metadata": {},
   "outputs": [],
   "source": [
    "data_path='../Data/' ##it is a convinience function ##.. is go back"
   ]
  },
  {
   "cell_type": "code",
   "execution_count": 10,
   "id": "0e18b8ce-b29f-481a-b272-c4d9093203ef",
   "metadata": {},
   "outputs": [],
   "source": [
    "adata=sc.read(data_path + 'fullHBEC.h5ad')"
   ]
  },
  {
   "cell_type": "markdown",
   "id": "ac31e6e5-6ee9-4cd5-aaae-512a24326079",
   "metadata": {},
   "source": [
    "### subset the data"
   ]
  },
  {
   "cell_type": "code",
   "execution_count": 4,
   "id": "909471ca-6db6-45e1-803f-30fe8078b1d0",
   "metadata": {},
   "outputs": [],
   "source": [
    "ct='ciliated'\n",
    "stim='lambda'\n",
    "tp='3'"
   ]
  },
  {
   "cell_type": "code",
   "execution_count": 53,
   "id": "b8664323-4b7c-43d6-99e2-64deab4a7043",
   "metadata": {},
   "outputs": [],
   "source": [
    "gene_filter=adata.X.mean(axis=0).A1>0.01"
   ]
  },
  {
   "cell_type": "code",
   "execution_count": 10,
   "id": "ef58164a-2823-44cd-ad5b-9cacf3319066",
   "metadata": {},
   "outputs": [],
   "source": [
    "STIM_COL_NAME='stim'\n",
    "TIME_COL_NAME='time'\n",
    "CELLTYPE_COL_NAME='cell_type'\n"
   ]
  },
  {
   "cell_type": "code",
   "execution_count": 112,
   "id": "b0330be1-2ce9-478e-b558-4ccf1ecda66c",
   "metadata": {},
   "outputs": [
    {
     "data": {
      "text/plain": [
       "['9', '24', '3', '48', '6', '0']\n",
       "Categories (6, object): ['9', '24', '3', '48', '6', '0']"
      ]
     },
     "execution_count": 112,
     "metadata": {},
     "output_type": "execute_result"
    }
   ],
   "source": [
    "adata.obs['time'].unique()"
   ]
  },
  {
   "cell_type": "code",
   "execution_count": 150,
   "id": "bc6956ec-8735-4298-9a0e-5dd4190c692c",
   "metadata": {},
   "outputs": [
    {
     "data": {
      "text/plain": [
       "[('basal', 'alpha', '3'),\n",
       " ('basal', 'alpha', '6'),\n",
       " ('basal', 'alpha', '9'),\n",
       " ('basal', 'alpha', '24'),\n",
       " ('basal', 'beta', '3'),\n",
       " ('basal', 'beta', '6'),\n",
       " ('basal', 'beta', '9'),\n",
       " ('basal', 'beta', '24'),\n",
       " ('basal', 'gamma', '3'),\n",
       " ('basal', 'gamma', '6'),\n",
       " ('basal', 'gamma', '9'),\n",
       " ('basal', 'gamma', '24'),\n",
       " ('basal', 'lambda', '3'),\n",
       " ('basal', 'lambda', '6'),\n",
       " ('basal', 'lambda', '9'),\n",
       " ('basal', 'lambda', '24'),\n",
       " ('neuroendo', 'alpha', '3'),\n",
       " ('neuroendo', 'alpha', '6'),\n",
       " ('neuroendo', 'alpha', '9'),\n",
       " ('neuroendo', 'alpha', '24'),\n",
       " ('neuroendo', 'beta', '3'),\n",
       " ('neuroendo', 'beta', '6'),\n",
       " ('neuroendo', 'beta', '9'),\n",
       " ('neuroendo', 'beta', '24'),\n",
       " ('neuroendo', 'gamma', '3'),\n",
       " ('neuroendo', 'gamma', '6'),\n",
       " ('neuroendo', 'gamma', '9'),\n",
       " ('neuroendo', 'gamma', '24'),\n",
       " ('neuroendo', 'lambda', '3'),\n",
       " ('neuroendo', 'lambda', '6'),\n",
       " ('neuroendo', 'lambda', '9'),\n",
       " ('neuroendo', 'lambda', '24')]"
      ]
     },
     "execution_count": 150,
     "metadata": {},
     "output_type": "execute_result"
    }
   ],
   "source": [
    "ct=['basal','neuroendo'] #earased ciliated bc it already ran and basal/club= bc \n",
    "stim=['alpha', 'beta', 'gamma', 'lambda']\n",
    "tp=['3','6','9','24']\n",
    "combo_c_s_t=list(product(ct,stim,tp))\n",
    "combo_c_s_t"
   ]
  },
  {
   "cell_type": "code",
   "execution_count": 157,
   "id": "124c7c99-3570-4a69-aa5f-e172521d9b87",
   "metadata": {},
   "outputs": [],
   "source": [
    "bc='basal/club'"
   ]
  },
  {
   "cell_type": "code",
   "execution_count": 151,
   "id": "bc19ed7f-f774-4bd2-9435-0bd24e6ffe52",
   "metadata": {
    "tags": []
   },
   "outputs": [],
   "source": [
    "for i,j, k in combo_c_s_t:\n",
    "    control= adata[\n",
    "        (adata.obs[STIM_COL_NAME]=='control')&\\\n",
    "        (adata.obs[CELLTYPE_COL_NAME]==i),gene_filter].copy()\n",
    "    subset = adata[\n",
    "        (adata.obs[CELLTYPE_COL_NAME]==i) &\\\n",
    "        (adata.obs[STIM_COL_NAME]==j) &\\\n",
    "        (adata.obs[TIME_COL_NAME]==k), gene_filter].copy()\n",
    "    sc.pp.normalize_total(control, target_sum=1e4)\n",
    "    sc.pp.normalize_total(subset, target_sum=1e4)\n",
    "    sc.pp.log1p(control)\n",
    "    sc.pp.log1p(subset)\n",
    "   \n",
    "    control_expr=control.X.toarray()\n",
    "    subset_expr=subset.X.toarray()\n",
    "    mean_difference=subset_expr.mean(axis=0)- control_expr.mean(axis=0)\n",
    "    ttest_pvalue= stats.ttest_ind(subset_expr,control_expr, axis=0)[1]\n",
    "    mwu_pvalue=stats.mannwhitneyu(subset_expr,control_expr, axis=0)[1]\n",
    "    \n",
    "    genes=subset.var_names.tolist()\n",
    "    result=pd.DataFrame(\n",
    "        zip(mean_difference,mwu_pvalue, ttest_pvalue),\n",
    "        index=genes,\n",
    "        columns=['effect_size', 'ttest_pval','mwu_pval'])\n",
    "    result['ttest_pval']=result['ttest_pval'].fillna(1.0)\n",
    "    result['mwu_pval']=result['mwu_pval'].fillna(1.0)\n",
    "    \n",
    "    _,result['ttest_fdr']=fdrcorrection(result['ttest_pval'])\n",
    "    _,result['mwu_fdr']=fdrcorrection(result['mwu_pval'])\n",
    "    result.sort_values('mwu_fdr').head(50)\n",
    "    result.to_csv(data_path+f'{i}_{j}_{k}.csv')\n"
   ]
  },
  {
   "cell_type": "code",
   "execution_count": 160,
   "id": "08a74a15-03ed-436d-85bd-817c262a3e1e",
   "metadata": {},
   "outputs": [],
   "source": [
    "stim1=['alpha', 'beta', 'gamma', 'lambda']\n",
    "tp1=['3','6','9','24']\n",
    "combo_s_t=list(product(stim1,tp1))\n",
    "\n",
    "for s,t in combo_s_t:\n",
    "    control= adata[\n",
    "        (adata.obs[STIM_COL_NAME]=='control')&\\\n",
    "        (adata.obs[CELLTYPE_COL_NAME]==bc),gene_filter].copy()\n",
    "    subset = adata[\n",
    "        (adata.obs[CELLTYPE_COL_NAME]==bc) &\\\n",
    "        (adata.obs[STIM_COL_NAME]==s) &\\\n",
    "        (adata.obs[TIME_COL_NAME]==t), gene_filter].copy()\n",
    "    sc.pp.normalize_total(control, target_sum=1e4)\n",
    "    sc.pp.normalize_total(subset, target_sum=1e4)\n",
    "    sc.pp.log1p(control)\n",
    "    sc.pp.log1p(subset)\n",
    "   \n",
    "    control_expr=control.X.toarray()\n",
    "    subset_expr=subset.X.toarray()\n",
    "    mean_difference=subset_expr.mean(axis=0)- control_expr.mean(axis=0)\n",
    "    ttest_pvalue= stats.ttest_ind(subset_expr,control_expr, axis=0)[1]\n",
    "    mwu_pvalue=stats.mannwhitneyu(subset_expr,control_expr, axis=0)[1]\n",
    "    \n",
    "    genes=subset.var_names.tolist()\n",
    "    result=pd.DataFrame(\n",
    "        zip(mean_difference,mwu_pvalue, ttest_pvalue),\n",
    "        index=genes,\n",
    "        columns=['effect_size', 'ttest_pval','mwu_pval'])\n",
    "    result['ttest_pval']=result['ttest_pval'].fillna(1.0)\n",
    "    result['mwu_pval']=result['mwu_pval'].fillna(1.0)\n",
    "    \n",
    "    _,result['ttest_fdr']=fdrcorrection(result['ttest_pval'])\n",
    "    _,result['mwu_fdr']=fdrcorrection(result['mwu_pval'])\n",
    "    result.sort_values('mwu_fdr').head(50)\n",
    "    result.to_csv(data_path+f'bc_{s}_{t}.csv')\n"
   ]
  },
  {
   "cell_type": "markdown",
   "id": "82e28ee9-7ce6-48d6-a4da-41d46ec93e77",
   "metadata": {},
   "source": [
    "### Compare and Contrast"
   ]
  },
  {
   "cell_type": "code",
   "execution_count": 48,
   "id": "78557f9e-fcbb-422d-bfcf-9bf0567ee804",
   "metadata": {},
   "outputs": [],
   "source": [
    "FDR_THRESHOLD=0.01\n",
    "TOP_N=30"
   ]
  },
  {
   "cell_type": "code",
   "execution_count": 50,
   "id": "5aa26981-77d5-42a9-ab11-c49e3014e7d8",
   "metadata": {},
   "outputs": [],
   "source": [
    "ct='basal'\n",
    "tp='24'\n"
   ]
  },
  {
   "cell_type": "code",
   "execution_count": 51,
   "id": "8e17cfec-d7e0-4236-b508-9fdacff93c4c",
   "metadata": {},
   "outputs": [],
   "source": [
    "stims= ['alpha', 'gamma', 'lambda']\n",
    "de_genes={}\n",
    "for stim in stims: \n",
    "    \n",
    "    df=pd.read_csv(data_path +f'{ct}_{stim}_{tp}.csv',index_col=0) #index_col means which column is your index\n",
    "    filtered=df\\\n",
    "    .query(F'mwu_fdr<{FDR_THRESHOLD} & effect_size>0')\\\n",
    "    .sort_values('mwu_fdr')\\\n",
    "    .head(TOP_N)\n",
    "    de_genes[stim]=set(filtered.index.tolist())"
   ]
  },
  {
   "cell_type": "code",
   "execution_count": 52,
   "id": "123d5644-6eeb-4590-9882-b14f3b649f24",
   "metadata": {
    "tags": []
   },
   "outputs": [
    {
     "data": {
      "text/plain": [
       "19"
      ]
     },
     "execution_count": 52,
     "metadata": {},
     "output_type": "execute_result"
    }
   ],
   "source": [
    "len(de_genes['alpha'] & de_genes['lambda'])"
   ]
  },
  {
   "cell_type": "code",
   "execution_count": null,
   "id": "e0b41705-f322-4f54-af8e-bf2a343b8f5e",
   "metadata": {},
   "outputs": [],
   "source": []
  },
  {
   "cell_type": "code",
   "execution_count": 49,
   "id": "f30cb5e6-ac94-4dba-a9e4-fb5bf0a4c8d9",
   "metadata": {
    "collapsed": true,
    "jupyter": {
     "outputs_hidden": true
    },
    "tags": []
   },
   "outputs": [
    {
     "data": {
      "text/plain": [
       "{'ABCA13',\n",
       " 'ABHD16A',\n",
       " 'AC008875.3',\n",
       " 'AC009133.1',\n",
       " 'AC022034.1',\n",
       " 'ACKR4',\n",
       " 'ACSL5',\n",
       " 'ADH1C',\n",
       " 'AL590434.1',\n",
       " 'ALPK1',\n",
       " 'APOL3',\n",
       " 'ARHGEF35',\n",
       " 'ASCC3',\n",
       " 'BATF2',\n",
       " 'BBX',\n",
       " 'C1GALT1C1',\n",
       " 'C1S',\n",
       " 'C3orf14',\n",
       " 'C5orf15',\n",
       " 'CALHM6',\n",
       " 'CASP4',\n",
       " 'CASP7',\n",
       " 'CBR3',\n",
       " 'CD274',\n",
       " 'CDC26',\n",
       " 'CDH1',\n",
       " 'CHL1',\n",
       " 'CIITA',\n",
       " 'CIR1',\n",
       " 'CLDN7',\n",
       " 'CLEC2B',\n",
       " 'CLIP1',\n",
       " 'CLUAP1',\n",
       " 'COX17',\n",
       " 'CTSO',\n",
       " 'CX3CL1',\n",
       " 'DDX3Y',\n",
       " 'DPYD',\n",
       " 'EIF1',\n",
       " 'EMP2',\n",
       " 'F3',\n",
       " 'FBXO7',\n",
       " 'GBP2',\n",
       " 'GBP5',\n",
       " 'GCH1',\n",
       " 'GSDMB',\n",
       " 'GSTA1',\n",
       " 'GSTK1',\n",
       " 'GUK1',\n",
       " 'HAPLN3',\n",
       " 'HLA-DMA',\n",
       " 'HLA-DMB',\n",
       " 'HLA-DPA1',\n",
       " 'HLA-DPB1',\n",
       " 'HLA-DQB1',\n",
       " 'IGFBP5',\n",
       " 'IGFLR1',\n",
       " 'IL15RA',\n",
       " 'IL18BP',\n",
       " 'IL32',\n",
       " 'JAK2',\n",
       " 'KARS',\n",
       " 'KIF21A',\n",
       " 'LBH',\n",
       " 'LRRFIP1',\n",
       " 'LYPD6B',\n",
       " 'MAL2',\n",
       " 'MMP25-AS1',\n",
       " 'MSRB1',\n",
       " 'MUC1',\n",
       " 'MUC16',\n",
       " 'MVP',\n",
       " 'N4BP2L2',\n",
       " 'NAMPT',\n",
       " 'NLRC5',\n",
       " 'PARP3',\n",
       " 'PFKP',\n",
       " 'PRDM1',\n",
       " 'PRDX1',\n",
       " 'PRKY',\n",
       " 'PSENEN',\n",
       " 'PSMB2',\n",
       " 'PSMB3',\n",
       " 'PSMB8-AS1',\n",
       " 'RANGAP1',\n",
       " 'RARRES1',\n",
       " 'RCN1',\n",
       " 'RHBDF2',\n",
       " 'RIPK2',\n",
       " 'RNF19B',\n",
       " 'RPL18A',\n",
       " 'RPL34',\n",
       " 'RPL37',\n",
       " 'RPL39',\n",
       " 'RPS16',\n",
       " 'RPS23',\n",
       " 'RPS24',\n",
       " 'RPS27',\n",
       " 'S100A13',\n",
       " 'S100A16',\n",
       " 'SET',\n",
       " 'SOCS1',\n",
       " 'SOD2',\n",
       " 'SORD',\n",
       " 'SSPN',\n",
       " 'ST8SIA4',\n",
       " 'STAP2',\n",
       " 'SYNE2',\n",
       " 'TAPBPL',\n",
       " 'TAX1BP1',\n",
       " 'TGM2',\n",
       " 'TMEM40',\n",
       " 'TNFRSF14',\n",
       " 'TOP1',\n",
       " 'TSPO',\n",
       " 'UBD',\n",
       " 'UBXN4',\n",
       " 'USP9Y',\n",
       " 'VMP1',\n",
       " 'VPS13C',\n",
       " 'WDFY1',\n",
       " 'WFDC2'}"
      ]
     },
     "execution_count": 49,
     "metadata": {},
     "output_type": "execute_result"
    }
   ],
   "source": [
    "de_genes['gamma']-de_genes['alpha'] # - is what is in the 1st list that isnt in the 2nd"
   ]
  },
  {
   "cell_type": "code",
   "execution_count": 54,
   "id": "85dee089-c3d7-4394-bce8-db8c241675cd",
   "metadata": {},
   "outputs": [
    {
     "name": "stdout",
     "output_type": "stream",
     "text": [
      "OAS1\n",
      "LY6E\n",
      "SP100\n",
      "ISG20\n",
      "IFI6\n",
      "IFIT1\n",
      "DDX58\n",
      "HERC6\n",
      "HERC5\n",
      "IFI44L\n",
      "IFITM2\n",
      "SAMD9\n",
      "TRIM22\n",
      "IFI27\n",
      "DDX60L\n",
      "IFIT3\n",
      "XAF1\n",
      "EPSTI1\n",
      "MT2A\n"
     ]
    }
   ],
   "source": [
    "for i in de_genes['alpha']-de_genes['gamma']:\n",
    "    print(i)\n"
   ]
  },
  {
   "cell_type": "markdown",
   "id": "b9935d0b-0585-484d-b2a2-0ffa67b8398d",
   "metadata": {},
   "source": [
    "# Counting differentially expresed genes"
   ]
  },
  {
   "cell_type": "code",
   "execution_count": 82,
   "id": "8b18f2fd-a14e-4885-ad28-9eed0c3c1339",
   "metadata": {},
   "outputs": [],
   "source": [
    "FDR_THRESHOLD=0.1\n",
    "EFFECT_SIZE_THRESHOLD=.001"
   ]
  },
  {
   "cell_type": "code",
   "execution_count": 83,
   "id": "92617555-aa47-44f8-8055-e03811649981",
   "metadata": {},
   "outputs": [],
   "source": [
    "ct='basal'\n",
    "count_heatmap=pd.DataFrame(\n",
    "    index=['alpha','beta','gamma', 'lambda'],\n",
    "    columns=['3','6','9', '24'])\n",
    "for stim in ['alpha','beta','gamma', 'lambda']:\n",
    "    for tp in ['3','6','9', '24']:\n",
    "        df=pd.read_csv(data_path+f'{ct}_{stim}_{tp}.csv', index_col=0)\n",
    "        hits=df.query(f'effect_size>{EFFECT_SIZE_THRESHOLD}& mwu_fdr<{FDR_THRESHOLD}')\n",
    "        count_heatmap.loc[stim,tp]=hits.shape[0]"
   ]
  },
  {
   "cell_type": "code",
   "execution_count": 84,
   "id": "e98d2f31-3af9-4148-bb10-ab8f6e984b75",
   "metadata": {},
   "outputs": [
    {
     "data": {
      "text/html": [
       "<div>\n",
       "<style scoped>\n",
       "    .dataframe tbody tr th:only-of-type {\n",
       "        vertical-align: middle;\n",
       "    }\n",
       "\n",
       "    .dataframe tbody tr th {\n",
       "        vertical-align: top;\n",
       "    }\n",
       "\n",
       "    .dataframe thead th {\n",
       "        text-align: right;\n",
       "    }\n",
       "</style>\n",
       "<table border=\"1\" class=\"dataframe\">\n",
       "  <thead>\n",
       "    <tr style=\"text-align: right;\">\n",
       "      <th></th>\n",
       "      <th>3</th>\n",
       "      <th>6</th>\n",
       "      <th>9</th>\n",
       "      <th>24</th>\n",
       "    </tr>\n",
       "  </thead>\n",
       "  <tbody>\n",
       "    <tr>\n",
       "      <th>alpha</th>\n",
       "      <td>1860</td>\n",
       "      <td>2088</td>\n",
       "      <td>1560</td>\n",
       "      <td>1682</td>\n",
       "    </tr>\n",
       "    <tr>\n",
       "      <th>beta</th>\n",
       "      <td>2701</td>\n",
       "      <td>1990</td>\n",
       "      <td>1727</td>\n",
       "      <td>1748</td>\n",
       "    </tr>\n",
       "    <tr>\n",
       "      <th>gamma</th>\n",
       "      <td>1266</td>\n",
       "      <td>1362</td>\n",
       "      <td>1637</td>\n",
       "      <td>1552</td>\n",
       "    </tr>\n",
       "    <tr>\n",
       "      <th>lambda</th>\n",
       "      <td>435</td>\n",
       "      <td>638</td>\n",
       "      <td>579</td>\n",
       "      <td>705</td>\n",
       "    </tr>\n",
       "  </tbody>\n",
       "</table>\n",
       "</div>"
      ],
      "text/plain": [
       "           3     6     9    24\n",
       "alpha   1860  2088  1560  1682\n",
       "beta    2701  1990  1727  1748\n",
       "gamma   1266  1362  1637  1552\n",
       "lambda   435   638   579   705"
      ]
     },
     "execution_count": 84,
     "metadata": {},
     "output_type": "execute_result"
    }
   ],
   "source": [
    "count_heatmap"
   ]
  },
  {
   "cell_type": "code",
   "execution_count": 92,
   "id": "8abcfc84-63dd-416e-8c6f-0544de2489fa",
   "metadata": {},
   "outputs": [],
   "source": [
    "ct='ciliated'\n",
    "count_heatmap=pd.DataFrame(\n",
    "    index=['alpha','beta','gamma', 'lambda'],\n",
    "    columns=['3','6','9', '24'])\n",
    "for stim in ['alpha','beta','gamma', 'lambda']:\n",
    "    for tp in ['3','6','9', '24']:\n",
    "        df=pd.read_csv(data_path+f'{ct}_{stim}_{tp}.csv', index_col=0)\n",
    "        hits=df.query(f'effect_size>{EFFECT_SIZE_THRESHOLD}& mwu_fdr<{FDR_THRESHOLD}')\n",
    "        count_heatmap.loc[stim,tp]=hits.shape[0]"
   ]
  },
  {
   "cell_type": "code",
   "execution_count": 94,
   "id": "f02bb8f1-4e09-4613-88f7-eb322310c5b6",
   "metadata": {
    "tags": []
   },
   "outputs": [
    {
     "data": {
      "text/html": [
       "<div>\n",
       "<style scoped>\n",
       "    .dataframe tbody tr th:only-of-type {\n",
       "        vertical-align: middle;\n",
       "    }\n",
       "\n",
       "    .dataframe tbody tr th {\n",
       "        vertical-align: top;\n",
       "    }\n",
       "\n",
       "    .dataframe thead th {\n",
       "        text-align: right;\n",
       "    }\n",
       "</style>\n",
       "<table border=\"1\" class=\"dataframe\">\n",
       "  <thead>\n",
       "    <tr style=\"text-align: right;\">\n",
       "      <th></th>\n",
       "      <th>3</th>\n",
       "      <th>6</th>\n",
       "      <th>9</th>\n",
       "      <th>24</th>\n",
       "    </tr>\n",
       "  </thead>\n",
       "  <tbody>\n",
       "    <tr>\n",
       "      <th>alpha</th>\n",
       "      <td>3044</td>\n",
       "      <td>2274</td>\n",
       "      <td>2360</td>\n",
       "      <td>2234</td>\n",
       "    </tr>\n",
       "    <tr>\n",
       "      <th>beta</th>\n",
       "      <td>2909</td>\n",
       "      <td>2325</td>\n",
       "      <td>1626</td>\n",
       "      <td>1765</td>\n",
       "    </tr>\n",
       "    <tr>\n",
       "      <th>gamma</th>\n",
       "      <td>1447</td>\n",
       "      <td>1278</td>\n",
       "      <td>1549</td>\n",
       "      <td>1265</td>\n",
       "    </tr>\n",
       "    <tr>\n",
       "      <th>lambda</th>\n",
       "      <td>1188</td>\n",
       "      <td>981</td>\n",
       "      <td>757</td>\n",
       "      <td>1018</td>\n",
       "    </tr>\n",
       "  </tbody>\n",
       "</table>\n",
       "</div>"
      ],
      "text/plain": [
       "           3     6     9    24\n",
       "alpha   3044  2274  2360  2234\n",
       "beta    2909  2325  1626  1765\n",
       "gamma   1447  1278  1549  1265\n",
       "lambda  1188   981   757  1018"
      ]
     },
     "execution_count": 94,
     "metadata": {},
     "output_type": "execute_result"
    }
   ],
   "source": [
    "count_heatmap"
   ]
  },
  {
   "cell_type": "code",
   "execution_count": 97,
   "id": "8e1d1bb0-205f-4644-b601-fd15100f92e6",
   "metadata": {},
   "outputs": [],
   "source": [
    "ct='neuroendo'\n",
    "count_heatmap=pd.DataFrame(\n",
    "    index=['alpha','beta','gamma', 'lambda'],\n",
    "    columns=['3','6','9', '24'])\n",
    "for stim in ['alpha','beta','gamma', 'lambda']:\n",
    "    for tp in ['3','6','9', '24']:\n",
    "        df=pd.read_csv(data_path+f'{ct}_{stim}_{tp}.csv', index_col=0)\n",
    "        hits=df.query(f'effect_size>{EFFECT_SIZE_THRESHOLD}& mwu_fdr<{FDR_THRESHOLD}')\n",
    "        count_heatmap.loc[stim,tp]=hits.shape[0]"
   ]
  },
  {
   "cell_type": "code",
   "execution_count": 98,
   "id": "670e5dee-49c3-42e3-aad6-96814aae441b",
   "metadata": {},
   "outputs": [
    {
     "data": {
      "text/html": [
       "<div>\n",
       "<style scoped>\n",
       "    .dataframe tbody tr th:only-of-type {\n",
       "        vertical-align: middle;\n",
       "    }\n",
       "\n",
       "    .dataframe tbody tr th {\n",
       "        vertical-align: top;\n",
       "    }\n",
       "\n",
       "    .dataframe thead th {\n",
       "        text-align: right;\n",
       "    }\n",
       "</style>\n",
       "<table border=\"1\" class=\"dataframe\">\n",
       "  <thead>\n",
       "    <tr style=\"text-align: right;\">\n",
       "      <th></th>\n",
       "      <th>3</th>\n",
       "      <th>6</th>\n",
       "      <th>9</th>\n",
       "      <th>24</th>\n",
       "    </tr>\n",
       "  </thead>\n",
       "  <tbody>\n",
       "    <tr>\n",
       "      <th>alpha</th>\n",
       "      <td>18</td>\n",
       "      <td>22</td>\n",
       "      <td>52</td>\n",
       "      <td>33</td>\n",
       "    </tr>\n",
       "    <tr>\n",
       "      <th>beta</th>\n",
       "      <td>18</td>\n",
       "      <td>25</td>\n",
       "      <td>24</td>\n",
       "      <td>11</td>\n",
       "    </tr>\n",
       "    <tr>\n",
       "      <th>gamma</th>\n",
       "      <td>0</td>\n",
       "      <td>10</td>\n",
       "      <td>8</td>\n",
       "      <td>18</td>\n",
       "    </tr>\n",
       "    <tr>\n",
       "      <th>lambda</th>\n",
       "      <td>97</td>\n",
       "      <td>1</td>\n",
       "      <td>5</td>\n",
       "      <td>0</td>\n",
       "    </tr>\n",
       "  </tbody>\n",
       "</table>\n",
       "</div>"
      ],
      "text/plain": [
       "         3   6   9  24\n",
       "alpha   18  22  52  33\n",
       "beta    18  25  24  11\n",
       "gamma    0  10   8  18\n",
       "lambda  97   1   5   0"
      ]
     },
     "execution_count": 98,
     "metadata": {},
     "output_type": "execute_result"
    }
   ],
   "source": [
    "count_heatmap"
   ]
  },
  {
   "cell_type": "code",
   "execution_count": 90,
   "id": "5e057db6-7d0e-4308-8a01-7b7970252592",
   "metadata": {},
   "outputs": [
    {
     "data": {
      "text/plain": [
       "Text(0, 0.5, '-log10 FDR')"
      ]
     },
     "execution_count": 90,
     "metadata": {},
     "output_type": "execute_result"
    },
    {
     "data": {
      "image/png": "[encoded data removed]",
      "text/plain": [
       "<Figure size 432x288 with 1 Axes>"
      ]
     },
     "metadata": {
      "needs_background": "light"
     },
     "output_type": "display_data"
    }
   ],
   "source": [
    "plt.scatter(\n",
    "    df['effect_size'],\n",
    "    -np.log10(df['mwu_fdr']))\n",
    "\n",
    "plt.xlabel('Effective size(fold change)')\n",
    "plt.ylabel('-log10 FDR')"
   ]
  },
  {
   "cell_type": "code",
   "execution_count": null,
   "id": "8c18c8d8-01b8-4519-a19d-54d08256ede6",
   "metadata": {},
   "outputs": [],
   "source": []
  }
 ],
 "metadata": {
  "kernelspec": {
   "display_name": "Python 3",
   "language": "python",
   "name": "python3"
  },
  "language_info": {
   "codemirror_mode": {
    "name": "ipython",
    "version": 3
   },
   "file_extension": ".py",
   "mimetype": "text/x-python",
   "name": "python",
   "nbconvert_exporter": "python",
   "pygments_lexer": "ipython3",
   "version": "3.8.10"
  }
 },
 "nbformat": 4,
 "nbformat_minor": 5
}
